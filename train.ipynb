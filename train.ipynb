{
 "cells": [
  {
   "cell_type": "markdown",
   "metadata": {},
   "source": [
    "# 1. 라이브러리 임포트 및 환경 설정"
   ]
  },
  {
   "cell_type": "code",
   "execution_count": 1,
   "metadata": {},
   "outputs": [],
   "source": [
    "import numpy as np\n",
    "import os\n",
    "import tensorflow as tf\n",
    "import matplotlib.pyplot as plt\n",
    "import seaborn as sns\n",
    "\n",
    "from sklearn.model_selection import train_test_split\n",
    "from sklearn.metrics import confusion_matrix, classification_report\n"
   ]
  },
  {
   "cell_type": "markdown",
   "metadata": {},
   "source": [
    "# 2. 데이터 및 액션 이름 로드"
   ]
  },
  {
   "cell_type": "code",
   "execution_count": 2,
   "metadata": {},
   "outputs": [
    {
     "name": "stdout",
     "output_type": "stream",
     "text": [
      "Detected actions: ['paper', 'rock', 'sissor']\n",
      "Action to label mapping: {'paper': 0, 'rock': 1, 'sissor': 2}\n"
     ]
    }
   ],
   "source": [
    "dataset_path = os.path.join('create_dataset', 'dataset')\n",
    "\n",
    "# seq_*.npy 파일 목록 가져오기\n",
    "seq_files = [f for f in os.listdir(dataset_path) if f.startswith('seq_') and f.endswith('.npy')]\n",
    "\n",
    "# 액션 이름 추출\n",
    "actions = set()\n",
    "for filename in seq_files:\n",
    "    parts = filename.split('_')\n",
    "    action_name = '_'.join(parts[1:-1])\n",
    "    actions.add(action_name)\n",
    "\n",
    "# 액션 이름을 리스트로 변환 및 정렬\n",
    "actions = sorted(actions)\n",
    "print(f\"Detected actions: {actions}\")\n",
    "\n",
    "# 액션 이름 저장\n",
    "np.save('actions.npy', np.array(actions))\n",
    "\n",
    "# 액션 이름과 레이블 매핑 생성\n",
    "action_to_label = {action: idx for idx, action in enumerate(actions)}\n",
    "print(f\"Action to label mapping: {action_to_label}\")"
   ]
  },
  {
   "cell_type": "markdown",
   "metadata": {},
   "source": [
    "# 3. 데이터 및 레이블 로드"
   ]
  },
  {
   "cell_type": "code",
   "execution_count": 3,
   "metadata": {},
   "outputs": [
    {
     "name": "stdout",
     "output_type": "stream",
     "text": [
      "Data shape: (2609, 30, 103)\n",
      "Labels shape: (2609,)\n"
     ]
    }
   ],
   "source": [
    "data_list = []\n",
    "label_list = []\n",
    "\n",
    "for filename in seq_files:\n",
    "    parts = filename.split('_')\n",
    "    action_name = '_'.join(parts[1:-1])\n",
    "    label = action_to_label[action_name]\n",
    "\n",
    "    seq_data = np.load(os.path.join(dataset_path, filename))\n",
    "    data_list.append(seq_data)\n",
    "\n",
    "    labels = np.full((seq_data.shape[0],), label)\n",
    "    label_list.append(labels)\n",
    "\n",
    "data = np.concatenate(data_list, axis=0)\n",
    "labels = np.concatenate(label_list, axis=0)\n",
    "\n",
    "print(f'Data shape: {data.shape}')\n",
    "print(f'Labels shape: {labels.shape}')"
   ]
  },
  {
   "cell_type": "markdown",
   "metadata": {},
   "source": [
    "# 3-1. 데이터 모양 확인"
   ]
  },
  {
   "cell_type": "code",
   "execution_count": 4,
   "metadata": {},
   "outputs": [
    {
     "name": "stdout",
     "output_type": "stream",
     "text": [
      "Data shape: (2609, 30, 103)\n",
      "Labels shape: (2609,)\n",
      "Feature vector size: 103\n"
     ]
    }
   ],
   "source": [
    "# After loading data and labels\n",
    "print(f'Data shape: {data.shape}')\n",
    "print(f'Labels shape: {labels.shape}')\n",
    "print(f'Feature vector size: {data.shape[2]}')  # Verify feature vector size"
   ]
  },
  {
   "cell_type": "markdown",
   "metadata": {},
   "source": [
    "# 4. 입력 데이터 및 레이블 준비"
   ]
  },
  {
   "cell_type": "code",
   "execution_count": 5,
   "metadata": {},
   "outputs": [
    {
     "name": "stdout",
     "output_type": "stream",
     "text": [
      "x_data shape: (2609, 30, 103)\n",
      "y_data shape: (2609, 3)\n"
     ]
    }
   ],
   "source": [
    "x_data = data.astype(np.float32)\n",
    "y_data = tf.keras.utils.to_categorical(labels, num_classes=len(actions))\n",
    "\n",
    "print(f'x_data shape: {x_data.shape}')\n",
    "print(f'y_data shape: {y_data.shape}')\n"
   ]
  },
  {
   "cell_type": "markdown",
   "metadata": {},
   "source": [
    "# 5. 데이터 분할"
   ]
  },
  {
   "cell_type": "code",
   "execution_count": 6,
   "metadata": {},
   "outputs": [
    {
     "name": "stdout",
     "output_type": "stream",
     "text": [
      "Training data shape: (2348, 30, 103), Training labels shape: (2348, 3)\n",
      "Validation data shape: (261, 30, 103), Validation labels shape: (261, 3)\n"
     ]
    }
   ],
   "source": [
    "x_train, x_val, y_train, y_val = train_test_split(\n",
    "    x_data, y_data, test_size=0.1, random_state=2021, stratify=labels\n",
    ")\n",
    "\n",
    "print(f'Training data shape: {x_train.shape}, Training labels shape: {y_train.shape}')\n",
    "print(f'Validation data shape: {x_val.shape}, Validation labels shape: {y_val.shape}')\n"
   ]
  },
  {
   "cell_type": "markdown",
   "metadata": {},
   "source": [
    "# 6. 모델 구축"
   ]
  },
  {
   "cell_type": "code",
   "execution_count": 8,
   "metadata": {},
   "outputs": [
    {
     "data": {
      "text/html": [
       "<pre style=\"white-space:pre;overflow-x:auto;line-height:normal;font-family:Menlo,'DejaVu Sans Mono',consolas,'Courier New',monospace\"><span style=\"font-weight: bold\">Model: \"sequential_1\"</span>\n",
       "</pre>\n"
      ],
      "text/plain": [
       "\u001b[1mModel: \"sequential_1\"\u001b[0m\n"
      ]
     },
     "metadata": {},
     "output_type": "display_data"
    },
    {
     "data": {
      "text/html": [
       "<pre style=\"white-space:pre;overflow-x:auto;line-height:normal;font-family:Menlo,'DejaVu Sans Mono',consolas,'Courier New',monospace\">┏━━━━━━━━━━━━━━━━━━━━━━━━━━━━━━━━━┳━━━━━━━━━━━━━━━━━━━━━━━━┳━━━━━━━━━━━━━━━┓\n",
       "┃<span style=\"font-weight: bold\"> Layer (type)                    </span>┃<span style=\"font-weight: bold\"> Output Shape           </span>┃<span style=\"font-weight: bold\">       Param # </span>┃\n",
       "┡━━━━━━━━━━━━━━━━━━━━━━━━━━━━━━━━━╇━━━━━━━━━━━━━━━━━━━━━━━━╇━━━━━━━━━━━━━━━┩\n",
       "│ lstm_1 (<span style=\"color: #0087ff; text-decoration-color: #0087ff\">LSTM</span>)                   │ (<span style=\"color: #00d7ff; text-decoration-color: #00d7ff\">None</span>, <span style=\"color: #00af00; text-decoration-color: #00af00\">64</span>)             │        <span style=\"color: #00af00; text-decoration-color: #00af00\">43,008</span> │\n",
       "├─────────────────────────────────┼────────────────────────┼───────────────┤\n",
       "│ dense_2 (<span style=\"color: #0087ff; text-decoration-color: #0087ff\">Dense</span>)                 │ (<span style=\"color: #00d7ff; text-decoration-color: #00d7ff\">None</span>, <span style=\"color: #00af00; text-decoration-color: #00af00\">32</span>)             │         <span style=\"color: #00af00; text-decoration-color: #00af00\">2,080</span> │\n",
       "├─────────────────────────────────┼────────────────────────┼───────────────┤\n",
       "│ dense_3 (<span style=\"color: #0087ff; text-decoration-color: #0087ff\">Dense</span>)                 │ (<span style=\"color: #00d7ff; text-decoration-color: #00d7ff\">None</span>, <span style=\"color: #00af00; text-decoration-color: #00af00\">3</span>)              │            <span style=\"color: #00af00; text-decoration-color: #00af00\">99</span> │\n",
       "└─────────────────────────────────┴────────────────────────┴───────────────┘\n",
       "</pre>\n"
      ],
      "text/plain": [
       "┏━━━━━━━━━━━━━━━━━━━━━━━━━━━━━━━━━┳━━━━━━━━━━━━━━━━━━━━━━━━┳━━━━━━━━━━━━━━━┓\n",
       "┃\u001b[1m \u001b[0m\u001b[1mLayer (type)                   \u001b[0m\u001b[1m \u001b[0m┃\u001b[1m \u001b[0m\u001b[1mOutput Shape          \u001b[0m\u001b[1m \u001b[0m┃\u001b[1m \u001b[0m\u001b[1m      Param #\u001b[0m\u001b[1m \u001b[0m┃\n",
       "┡━━━━━━━━━━━━━━━━━━━━━━━━━━━━━━━━━╇━━━━━━━━━━━━━━━━━━━━━━━━╇━━━━━━━━━━━━━━━┩\n",
       "│ lstm_1 (\u001b[38;5;33mLSTM\u001b[0m)                   │ (\u001b[38;5;45mNone\u001b[0m, \u001b[38;5;34m64\u001b[0m)             │        \u001b[38;5;34m43,008\u001b[0m │\n",
       "├─────────────────────────────────┼────────────────────────┼───────────────┤\n",
       "│ dense_2 (\u001b[38;5;33mDense\u001b[0m)                 │ (\u001b[38;5;45mNone\u001b[0m, \u001b[38;5;34m32\u001b[0m)             │         \u001b[38;5;34m2,080\u001b[0m │\n",
       "├─────────────────────────────────┼────────────────────────┼───────────────┤\n",
       "│ dense_3 (\u001b[38;5;33mDense\u001b[0m)                 │ (\u001b[38;5;45mNone\u001b[0m, \u001b[38;5;34m3\u001b[0m)              │            \u001b[38;5;34m99\u001b[0m │\n",
       "└─────────────────────────────────┴────────────────────────┴───────────────┘\n"
      ]
     },
     "metadata": {},
     "output_type": "display_data"
    },
    {
     "data": {
      "text/html": [
       "<pre style=\"white-space:pre;overflow-x:auto;line-height:normal;font-family:Menlo,'DejaVu Sans Mono',consolas,'Courier New',monospace\"><span style=\"font-weight: bold\"> Total params: </span><span style=\"color: #00af00; text-decoration-color: #00af00\">45,187</span> (176.51 KB)\n",
       "</pre>\n"
      ],
      "text/plain": [
       "\u001b[1m Total params: \u001b[0m\u001b[38;5;34m45,187\u001b[0m (176.51 KB)\n"
      ]
     },
     "metadata": {},
     "output_type": "display_data"
    },
    {
     "data": {
      "text/html": [
       "<pre style=\"white-space:pre;overflow-x:auto;line-height:normal;font-family:Menlo,'DejaVu Sans Mono',consolas,'Courier New',monospace\"><span style=\"font-weight: bold\"> Trainable params: </span><span style=\"color: #00af00; text-decoration-color: #00af00\">45,187</span> (176.51 KB)\n",
       "</pre>\n"
      ],
      "text/plain": [
       "\u001b[1m Trainable params: \u001b[0m\u001b[38;5;34m45,187\u001b[0m (176.51 KB)\n"
      ]
     },
     "metadata": {},
     "output_type": "display_data"
    },
    {
     "data": {
      "text/html": [
       "<pre style=\"white-space:pre;overflow-x:auto;line-height:normal;font-family:Menlo,'DejaVu Sans Mono',consolas,'Courier New',monospace\"><span style=\"font-weight: bold\"> Non-trainable params: </span><span style=\"color: #00af00; text-decoration-color: #00af00\">0</span> (0.00 B)\n",
       "</pre>\n"
      ],
      "text/plain": [
       "\u001b[1m Non-trainable params: \u001b[0m\u001b[38;5;34m0\u001b[0m (0.00 B)\n"
      ]
     },
     "metadata": {},
     "output_type": "display_data"
    }
   ],
   "source": [
    "from tensorflow.keras.models import Sequential\n",
    "from tensorflow.keras.layers import LSTM, Dense\n",
    "\n",
    "model = Sequential([\n",
    "    LSTM(64, activation='relu', input_shape=(x_train.shape[1], x_train.shape[2])),\n",
    "    Dense(32, activation='relu'),\n",
    "    Dense(len(actions), activation='softmax')\n",
    "])\n",
    "\n",
    "model.compile(\n",
    "    optimizer='adam',\n",
    "    loss='categorical_crossentropy',\n",
    "    metrics=['accuracy']\n",
    ")\n",
    "\n",
    "model.summary()"
   ]
  },
  {
   "cell_type": "markdown",
   "metadata": {},
   "source": [
    "# 7. 모델 학습"
   ]
  },
  {
   "cell_type": "code",
   "execution_count": 9,
   "metadata": {},
   "outputs": [
    {
     "name": "stdout",
     "output_type": "stream",
     "text": [
      "Epoch 1/100\n",
      "\u001b[1m68/74\u001b[0m \u001b[32m━━━━━━━━━━━━━━━━━━\u001b[0m\u001b[37m━━\u001b[0m \u001b[1m0s\u001b[0m 8ms/step - accuracy: 0.3819 - loss: 72.5454\n",
      "Epoch 1: val_accuracy improved from -inf to 0.81226, saving model to models/best_model.keras\n",
      "\u001b[1m74/74\u001b[0m \u001b[32m━━━━━━━━━━━━━━━━━━━━\u001b[0m\u001b[37m\u001b[0m \u001b[1m3s\u001b[0m 13ms/step - accuracy: 0.3915 - loss: 69.0160 - val_accuracy: 0.8123 - val_loss: 5.1961 - learning_rate: 0.0010\n",
      "Epoch 2/100\n",
      "\u001b[1m73/74\u001b[0m \u001b[32m━━━━━━━━━━━━━━━━━━━\u001b[0m\u001b[37m━\u001b[0m \u001b[1m0s\u001b[0m 7ms/step - accuracy: 0.8540 - loss: 4.2758\n",
      "Epoch 2: val_accuracy improved from 0.81226 to 0.93487, saving model to models/best_model.keras\n",
      "\u001b[1m74/74\u001b[0m \u001b[32m━━━━━━━━━━━━━━━━━━━━\u001b[0m\u001b[37m\u001b[0m \u001b[1m1s\u001b[0m 8ms/step - accuracy: 0.8547 - loss: 4.2495 - val_accuracy: 0.9349 - val_loss: 0.8249 - learning_rate: 0.0010\n",
      "Epoch 3/100\n",
      "\u001b[1m72/74\u001b[0m \u001b[32m━━━━━━━━━━━━━━━━━━━\u001b[0m\u001b[37m━\u001b[0m \u001b[1m0s\u001b[0m 8ms/step - accuracy: 0.9106 - loss: 1.0051\n",
      "Epoch 3: val_accuracy did not improve from 0.93487\n",
      "\u001b[1m74/74\u001b[0m \u001b[32m━━━━━━━━━━━━━━━━━━━━\u001b[0m\u001b[37m\u001b[0m \u001b[1m1s\u001b[0m 8ms/step - accuracy: 0.9099 - loss: 1.0148 - val_accuracy: 0.8736 - val_loss: 1.5819 - learning_rate: 0.0010\n",
      "Epoch 4/100\n",
      "\u001b[1m73/74\u001b[0m \u001b[32m━━━━━━━━━━━━━━━━━━━\u001b[0m\u001b[37m━\u001b[0m \u001b[1m0s\u001b[0m 7ms/step - accuracy: 0.9172 - loss: 0.8856\n",
      "Epoch 4: val_accuracy improved from 0.93487 to 0.98467, saving model to models/best_model.keras\n",
      "\u001b[1m74/74\u001b[0m \u001b[32m━━━━━━━━━━━━━━━━━━━━\u001b[0m\u001b[37m\u001b[0m \u001b[1m1s\u001b[0m 8ms/step - accuracy: 0.9180 - loss: 0.8772 - val_accuracy: 0.9847 - val_loss: 0.2170 - learning_rate: 0.0010\n",
      "Epoch 5/100\n",
      "\u001b[1m73/74\u001b[0m \u001b[32m━━━━━━━━━━━━━━━━━━━\u001b[0m\u001b[37m━\u001b[0m \u001b[1m0s\u001b[0m 8ms/step - accuracy: 0.9677 - loss: 0.3672\n",
      "Epoch 5: val_accuracy did not improve from 0.98467\n",
      "\u001b[1m74/74\u001b[0m \u001b[32m━━━━━━━━━━━━━━━━━━━━\u001b[0m\u001b[37m\u001b[0m \u001b[1m1s\u001b[0m 9ms/step - accuracy: 0.9674 - loss: 0.3674 - val_accuracy: 0.9617 - val_loss: 0.5473 - learning_rate: 0.0010\n",
      "Epoch 6/100\n",
      "\u001b[1m73/74\u001b[0m \u001b[32m━━━━━━━━━━━━━━━━━━━\u001b[0m\u001b[37m━\u001b[0m \u001b[1m0s\u001b[0m 7ms/step - accuracy: 0.9818 - loss: 0.2198\n",
      "Epoch 6: val_accuracy did not improve from 0.98467\n",
      "\u001b[1m74/74\u001b[0m \u001b[32m━━━━━━━━━━━━━━━━━━━━\u001b[0m\u001b[37m\u001b[0m \u001b[1m1s\u001b[0m 8ms/step - accuracy: 0.9818 - loss: 0.2216 - val_accuracy: 0.9693 - val_loss: 0.7041 - learning_rate: 0.0010\n",
      "Epoch 7/100\n",
      "\u001b[1m69/74\u001b[0m \u001b[32m━━━━━━━━━━━━━━━━━━\u001b[0m\u001b[37m━━\u001b[0m \u001b[1m0s\u001b[0m 8ms/step - accuracy: 0.9732 - loss: 0.4619\n",
      "Epoch 7: val_accuracy did not improve from 0.98467\n",
      "\u001b[1m74/74\u001b[0m \u001b[32m━━━━━━━━━━━━━━━━━━━━\u001b[0m\u001b[37m\u001b[0m \u001b[1m1s\u001b[0m 9ms/step - accuracy: 0.9731 - loss: 0.4567 - val_accuracy: 0.9732 - val_loss: 0.5710 - learning_rate: 0.0010\n",
      "Epoch 8/100\n",
      "\u001b[1m70/74\u001b[0m \u001b[32m━━━━━━━━━━━━━━━━━━\u001b[0m\u001b[37m━━\u001b[0m \u001b[1m0s\u001b[0m 7ms/step - accuracy: 0.9644 - loss: 0.4895\n",
      "Epoch 8: val_accuracy did not improve from 0.98467\n",
      "\u001b[1m74/74\u001b[0m \u001b[32m━━━━━━━━━━━━━━━━━━━━\u001b[0m\u001b[37m\u001b[0m \u001b[1m1s\u001b[0m 8ms/step - accuracy: 0.9638 - loss: 0.4953 - val_accuracy: 0.9464 - val_loss: 0.4128 - learning_rate: 0.0010\n",
      "Epoch 9/100\n",
      "\u001b[1m73/74\u001b[0m \u001b[32m━━━━━━━━━━━━━━━━━━━\u001b[0m\u001b[37m━\u001b[0m \u001b[1m0s\u001b[0m 7ms/step - accuracy: 0.9724 - loss: 0.3294\n",
      "Epoch 9: val_accuracy did not improve from 0.98467\n",
      "\u001b[1m74/74\u001b[0m \u001b[32m━━━━━━━━━━━━━━━━━━━━\u001b[0m\u001b[37m\u001b[0m \u001b[1m1s\u001b[0m 8ms/step - accuracy: 0.9726 - loss: 0.3292 - val_accuracy: 0.9693 - val_loss: 0.3482 - learning_rate: 0.0010\n",
      "Epoch 10/100\n",
      "\u001b[1m70/74\u001b[0m \u001b[32m━━━━━━━━━━━━━━━━━━\u001b[0m\u001b[37m━━\u001b[0m \u001b[1m0s\u001b[0m 8ms/step - accuracy: 0.9505 - loss: 0.8851\n",
      "Epoch 10: val_accuracy did not improve from 0.98467\n",
      "\u001b[1m74/74\u001b[0m \u001b[32m━━━━━━━━━━━━━━━━━━━━\u001b[0m\u001b[37m\u001b[0m \u001b[1m1s\u001b[0m 8ms/step - accuracy: 0.9502 - loss: 0.8878 - val_accuracy: 0.7356 - val_loss: 1.8167 - learning_rate: 0.0010\n",
      "Epoch 11/100\n",
      "\u001b[1m71/74\u001b[0m \u001b[32m━━━━━━━━━━━━━━━━━━━\u001b[0m\u001b[37m━\u001b[0m \u001b[1m0s\u001b[0m 8ms/step - accuracy: 0.8446 - loss: 5.4049\n",
      "Epoch 11: val_accuracy did not improve from 0.98467\n",
      "\u001b[1m74/74\u001b[0m \u001b[32m━━━━━━━━━━━━━━━━━━━━\u001b[0m\u001b[37m\u001b[0m \u001b[1m1s\u001b[0m 8ms/step - accuracy: 0.8438 - loss: 5.6794 - val_accuracy: 0.7701 - val_loss: 18.6188 - learning_rate: 0.0010\n",
      "Epoch 12/100\n",
      "\u001b[1m72/74\u001b[0m \u001b[32m━━━━━━━━━━━━━━━━━━━\u001b[0m\u001b[37m━\u001b[0m \u001b[1m0s\u001b[0m 7ms/step - accuracy: 0.9004 - loss: 3.1695\n",
      "Epoch 12: val_accuracy did not improve from 0.98467\n",
      "\u001b[1m74/74\u001b[0m \u001b[32m━━━━━━━━━━━━━━━━━━━━\u001b[0m\u001b[37m\u001b[0m \u001b[1m1s\u001b[0m 8ms/step - accuracy: 0.9006 - loss: 3.1754 - val_accuracy: 0.8199 - val_loss: 18.1722 - learning_rate: 0.0010\n",
      "Epoch 13/100\n",
      "\u001b[1m71/74\u001b[0m \u001b[32m━━━━━━━━━━━━━━━━━━━\u001b[0m\u001b[37m━\u001b[0m \u001b[1m0s\u001b[0m 7ms/step - accuracy: 0.8884 - loss: 6.5344\n",
      "Epoch 13: val_accuracy did not improve from 0.98467\n",
      "\u001b[1m74/74\u001b[0m \u001b[32m━━━━━━━━━━━━━━━━━━━━\u001b[0m\u001b[37m\u001b[0m \u001b[1m1s\u001b[0m 8ms/step - accuracy: 0.8880 - loss: 6.5086 - val_accuracy: 0.9080 - val_loss: 4.2220 - learning_rate: 0.0010\n",
      "Epoch 14/100\n",
      "\u001b[1m70/74\u001b[0m \u001b[32m━━━━━━━━━━━━━━━━━━\u001b[0m\u001b[37m━━\u001b[0m \u001b[1m0s\u001b[0m 8ms/step - accuracy: 0.8495 - loss: 4.0927\n",
      "Epoch 14: val_accuracy did not improve from 0.98467\n",
      "\n",
      "Epoch 14: ReduceLROnPlateau reducing learning rate to 0.0005000000237487257.\n",
      "\u001b[1m74/74\u001b[0m \u001b[32m━━━━━━━━━━━━━━━━━━━━\u001b[0m\u001b[37m\u001b[0m \u001b[1m1s\u001b[0m 8ms/step - accuracy: 0.8516 - loss: 4.0107 - val_accuracy: 0.9502 - val_loss: 0.7164 - learning_rate: 0.0010\n",
      "Epoch 15/100\n",
      "\u001b[1m69/74\u001b[0m \u001b[32m━━━━━━━━━━━━━━━━━━\u001b[0m\u001b[37m━━\u001b[0m \u001b[1m0s\u001b[0m 8ms/step - accuracy: 0.9785 - loss: 0.2538\n",
      "Epoch 15: val_accuracy did not improve from 0.98467\n",
      "\u001b[1m74/74\u001b[0m \u001b[32m━━━━━━━━━━━━━━━━━━━━\u001b[0m\u001b[37m\u001b[0m \u001b[1m1s\u001b[0m 8ms/step - accuracy: 0.9787 - loss: 0.2580 - val_accuracy: 0.9808 - val_loss: 0.1839 - learning_rate: 5.0000e-04\n",
      "Epoch 16/100\n",
      "\u001b[1m67/74\u001b[0m \u001b[32m━━━━━━━━━━━━━━━━━━\u001b[0m\u001b[37m━━\u001b[0m \u001b[1m0s\u001b[0m 7ms/step - accuracy: 0.9833 - loss: 0.2155\n",
      "Epoch 16: val_accuracy did not improve from 0.98467\n",
      "\u001b[1m74/74\u001b[0m \u001b[32m━━━━━━━━━━━━━━━━━━━━\u001b[0m\u001b[37m\u001b[0m \u001b[1m1s\u001b[0m 8ms/step - accuracy: 0.9825 - loss: 0.2205 - val_accuracy: 0.9808 - val_loss: 0.0633 - learning_rate: 5.0000e-04\n",
      "Epoch 17/100\n",
      "\u001b[1m71/74\u001b[0m \u001b[32m━━━━━━━━━━━━━━━━━━━\u001b[0m\u001b[37m━\u001b[0m \u001b[1m0s\u001b[0m 8ms/step - accuracy: 0.9913 - loss: 0.1052\n",
      "Epoch 17: val_accuracy did not improve from 0.98467\n",
      "\u001b[1m74/74\u001b[0m \u001b[32m━━━━━━━━━━━━━━━━━━━━\u001b[0m\u001b[37m\u001b[0m \u001b[1m1s\u001b[0m 8ms/step - accuracy: 0.9913 - loss: 0.1035 - val_accuracy: 0.9808 - val_loss: 0.1726 - learning_rate: 5.0000e-04\n",
      "Epoch 18/100\n",
      "\u001b[1m70/74\u001b[0m \u001b[32m━━━━━━━━━━━━━━━━━━\u001b[0m\u001b[37m━━\u001b[0m \u001b[1m0s\u001b[0m 8ms/step - accuracy: 0.9915 - loss: 0.1182\n",
      "Epoch 18: val_accuracy improved from 0.98467 to 0.98851, saving model to models/best_model.keras\n",
      "\u001b[1m74/74\u001b[0m \u001b[32m━━━━━━━━━━━━━━━━━━━━\u001b[0m\u001b[37m\u001b[0m \u001b[1m1s\u001b[0m 8ms/step - accuracy: 0.9915 - loss: 0.1154 - val_accuracy: 0.9885 - val_loss: 0.0450 - learning_rate: 5.0000e-04\n",
      "Epoch 19/100\n",
      "\u001b[1m70/74\u001b[0m \u001b[32m━━━━━━━━━━━━━━━━━━\u001b[0m\u001b[37m━━\u001b[0m \u001b[1m0s\u001b[0m 8ms/step - accuracy: 0.9906 - loss: 0.0470\n",
      "Epoch 19: val_accuracy did not improve from 0.98851\n",
      "\u001b[1m74/74\u001b[0m \u001b[32m━━━━━━━━━━━━━━━━━━━━\u001b[0m\u001b[37m\u001b[0m \u001b[1m1s\u001b[0m 8ms/step - accuracy: 0.9907 - loss: 0.0461 - val_accuracy: 0.9847 - val_loss: 0.0553 - learning_rate: 5.0000e-04\n",
      "Epoch 20/100\n",
      "\u001b[1m74/74\u001b[0m \u001b[32m━━━━━━━━━━━━━━━━━━━━\u001b[0m\u001b[37m\u001b[0m \u001b[1m0s\u001b[0m 8ms/step - accuracy: 0.9888 - loss: 0.0559\n",
      "Epoch 20: val_accuracy did not improve from 0.98851\n",
      "\u001b[1m74/74\u001b[0m \u001b[32m━━━━━━━━━━━━━━━━━━━━\u001b[0m\u001b[37m\u001b[0m \u001b[1m1s\u001b[0m 9ms/step - accuracy: 0.9889 - loss: 0.0557 - val_accuracy: 0.9847 - val_loss: 0.1245 - learning_rate: 5.0000e-04\n",
      "Epoch 21/100\n",
      "\u001b[1m74/74\u001b[0m \u001b[32m━━━━━━━━━━━━━━━━━━━━\u001b[0m\u001b[37m\u001b[0m \u001b[1m0s\u001b[0m 7ms/step - accuracy: 0.9957 - loss: 0.0170\n",
      "Epoch 21: val_accuracy improved from 0.98851 to 0.99234, saving model to models/best_model.keras\n",
      "\u001b[1m74/74\u001b[0m \u001b[32m━━━━━━━━━━━━━━━━━━━━\u001b[0m\u001b[37m\u001b[0m \u001b[1m1s\u001b[0m 8ms/step - accuracy: 0.9956 - loss: 0.0171 - val_accuracy: 0.9923 - val_loss: 0.0403 - learning_rate: 5.0000e-04\n",
      "Epoch 22/100\n",
      "\u001b[1m71/74\u001b[0m \u001b[32m━━━━━━━━━━━━━━━━━━━\u001b[0m\u001b[37m━\u001b[0m \u001b[1m0s\u001b[0m 8ms/step - accuracy: 0.9933 - loss: 0.0313\n",
      "Epoch 22: val_accuracy did not improve from 0.99234\n",
      "\u001b[1m74/74\u001b[0m \u001b[32m━━━━━━━━━━━━━━━━━━━━\u001b[0m\u001b[37m\u001b[0m \u001b[1m1s\u001b[0m 8ms/step - accuracy: 0.9933 - loss: 0.0311 - val_accuracy: 0.9923 - val_loss: 0.0374 - learning_rate: 5.0000e-04\n",
      "Epoch 23/100\n",
      "\u001b[1m71/74\u001b[0m \u001b[32m━━━━━━━━━━━━━━━━━━━\u001b[0m\u001b[37m━\u001b[0m \u001b[1m0s\u001b[0m 8ms/step - accuracy: 0.9962 - loss: 0.0134\n",
      "Epoch 23: val_accuracy did not improve from 0.99234\n",
      "\u001b[1m74/74\u001b[0m \u001b[32m━━━━━━━━━━━━━━━━━━━━\u001b[0m\u001b[37m\u001b[0m \u001b[1m1s\u001b[0m 8ms/step - accuracy: 0.9962 - loss: 0.0136 - val_accuracy: 0.9923 - val_loss: 0.0246 - learning_rate: 5.0000e-04\n",
      "Epoch 24/100\n",
      "\u001b[1m69/74\u001b[0m \u001b[32m━━━━━━━━━━━━━━━━━━\u001b[0m\u001b[37m━━\u001b[0m \u001b[1m0s\u001b[0m 8ms/step - accuracy: 0.9953 - loss: 0.0391\n",
      "Epoch 24: val_accuracy improved from 0.99234 to 0.99617, saving model to models/best_model.keras\n",
      "\u001b[1m74/74\u001b[0m \u001b[32m━━━━━━━━━━━━━━━━━━━━\u001b[0m\u001b[37m\u001b[0m \u001b[1m1s\u001b[0m 9ms/step - accuracy: 0.9954 - loss: 0.0379 - val_accuracy: 0.9962 - val_loss: 0.0188 - learning_rate: 5.0000e-04\n",
      "Epoch 25/100\n",
      "\u001b[1m70/74\u001b[0m \u001b[32m━━━━━━━━━━━━━━━━━━\u001b[0m\u001b[37m━━\u001b[0m \u001b[1m0s\u001b[0m 8ms/step - accuracy: 0.9957 - loss: 0.0232\n",
      "Epoch 25: val_accuracy did not improve from 0.99617\n",
      "\u001b[1m74/74\u001b[0m \u001b[32m━━━━━━━━━━━━━━━━━━━━\u001b[0m\u001b[37m\u001b[0m \u001b[1m1s\u001b[0m 8ms/step - accuracy: 0.9957 - loss: 0.0234 - val_accuracy: 0.9847 - val_loss: 0.1435 - learning_rate: 5.0000e-04\n",
      "Epoch 26/100\n",
      "\u001b[1m71/74\u001b[0m \u001b[32m━━━━━━━━━━━━━━━━━━━\u001b[0m\u001b[37m━\u001b[0m \u001b[1m0s\u001b[0m 8ms/step - accuracy: 0.9706 - loss: 0.1159\n",
      "Epoch 26: val_accuracy did not improve from 0.99617\n",
      "\u001b[1m74/74\u001b[0m \u001b[32m━━━━━━━━━━━━━━━━━━━━\u001b[0m\u001b[37m\u001b[0m \u001b[1m1s\u001b[0m 8ms/step - accuracy: 0.9710 - loss: 0.1143 - val_accuracy: 0.9962 - val_loss: 0.0179 - learning_rate: 5.0000e-04\n",
      "Epoch 27/100\n",
      "\u001b[1m70/74\u001b[0m \u001b[32m━━━━━━━━━━━━━━━━━━\u001b[0m\u001b[37m━━\u001b[0m \u001b[1m0s\u001b[0m 8ms/step - accuracy: 0.9982 - loss: 0.0035\n",
      "Epoch 27: val_accuracy did not improve from 0.99617\n",
      "\u001b[1m74/74\u001b[0m \u001b[32m━━━━━━━━━━━━━━━━━━━━\u001b[0m\u001b[37m\u001b[0m \u001b[1m1s\u001b[0m 8ms/step - accuracy: 0.9982 - loss: 0.0037 - val_accuracy: 0.9923 - val_loss: 0.0290 - learning_rate: 5.0000e-04\n",
      "Epoch 28/100\n",
      "\u001b[1m73/74\u001b[0m \u001b[32m━━━━━━━━━━━━━━━━━━━\u001b[0m\u001b[37m━\u001b[0m \u001b[1m0s\u001b[0m 8ms/step - accuracy: 0.9970 - loss: 0.0179\n",
      "Epoch 28: val_accuracy did not improve from 0.99617\n",
      "\u001b[1m74/74\u001b[0m \u001b[32m━━━━━━━━━━━━━━━━━━━━\u001b[0m\u001b[37m\u001b[0m \u001b[1m1s\u001b[0m 9ms/step - accuracy: 0.9969 - loss: 0.0182 - val_accuracy: 0.9923 - val_loss: 0.0325 - learning_rate: 5.0000e-04\n",
      "Epoch 29/100\n",
      "\u001b[1m71/74\u001b[0m \u001b[32m━━━━━━━━━━━━━━━━━━━\u001b[0m\u001b[37m━\u001b[0m \u001b[1m0s\u001b[0m 7ms/step - accuracy: 0.9931 - loss: 0.0607\n",
      "Epoch 29: val_accuracy did not improve from 0.99617\n",
      "\u001b[1m74/74\u001b[0m \u001b[32m━━━━━━━━━━━━━━━━━━━━\u001b[0m\u001b[37m\u001b[0m \u001b[1m1s\u001b[0m 7ms/step - accuracy: 0.9933 - loss: 0.0592 - val_accuracy: 0.9962 - val_loss: 0.0156 - learning_rate: 5.0000e-04\n",
      "Epoch 30/100\n",
      "\u001b[1m67/74\u001b[0m \u001b[32m━━━━━━━━━━━━━━━━━━\u001b[0m\u001b[37m━━\u001b[0m \u001b[1m0s\u001b[0m 7ms/step - accuracy: 0.9981 - loss: 0.0068\n",
      "Epoch 30: val_accuracy did not improve from 0.99617\n",
      "\u001b[1m74/74\u001b[0m \u001b[32m━━━━━━━━━━━━━━━━━━━━\u001b[0m\u001b[37m\u001b[0m \u001b[1m1s\u001b[0m 8ms/step - accuracy: 0.9978 - loss: 0.0078 - val_accuracy: 0.9732 - val_loss: 0.4919 - learning_rate: 5.0000e-04\n",
      "Epoch 31/100\n",
      "\u001b[1m71/74\u001b[0m \u001b[32m━━━━━━━━━━━━━━━━━━━\u001b[0m\u001b[37m━\u001b[0m \u001b[1m0s\u001b[0m 7ms/step - accuracy: 0.9904 - loss: 0.1205\n",
      "Epoch 31: val_accuracy did not improve from 0.99617\n",
      "\u001b[1m74/74\u001b[0m \u001b[32m━━━━━━━━━━━━━━━━━━━━\u001b[0m\u001b[37m\u001b[0m \u001b[1m1s\u001b[0m 8ms/step - accuracy: 0.9896 - loss: 0.1214 - val_accuracy: 0.9923 - val_loss: 0.0540 - learning_rate: 5.0000e-04\n",
      "Epoch 32/100\n",
      "\u001b[1m72/74\u001b[0m \u001b[32m━━━━━━━━━━━━━━━━━━━\u001b[0m\u001b[37m━\u001b[0m \u001b[1m0s\u001b[0m 7ms/step - accuracy: 0.9844 - loss: 0.0604\n",
      "Epoch 32: val_accuracy did not improve from 0.99617\n",
      "\u001b[1m74/74\u001b[0m \u001b[32m━━━━━━━━━━━━━━━━━━━━\u001b[0m\u001b[37m\u001b[0m \u001b[1m1s\u001b[0m 8ms/step - accuracy: 0.9842 - loss: 0.0613 - val_accuracy: 0.9923 - val_loss: 0.0283 - learning_rate: 5.0000e-04\n",
      "Epoch 33/100\n",
      "\u001b[1m68/74\u001b[0m \u001b[32m━━━━━━━━━━━━━━━━━━\u001b[0m\u001b[37m━━\u001b[0m \u001b[1m0s\u001b[0m 7ms/step - accuracy: 0.9723 - loss: 0.1322\n",
      "Epoch 33: val_accuracy did not improve from 0.99617\n",
      "\u001b[1m74/74\u001b[0m \u001b[32m━━━━━━━━━━━━━━━━━━━━\u001b[0m\u001b[37m\u001b[0m \u001b[1m1s\u001b[0m 8ms/step - accuracy: 0.9737 - loss: 0.1250 - val_accuracy: 0.9923 - val_loss: 0.0659 - learning_rate: 5.0000e-04\n",
      "Epoch 34/100\n",
      "\u001b[1m73/74\u001b[0m \u001b[32m━━━━━━━━━━━━━━━━━━━\u001b[0m\u001b[37m━\u001b[0m \u001b[1m0s\u001b[0m 7ms/step - accuracy: 0.9947 - loss: 0.0332\n",
      "Epoch 34: val_accuracy did not improve from 0.99617\n",
      "\n",
      "Epoch 34: ReduceLROnPlateau reducing learning rate to 0.0002500000118743628.\n",
      "\u001b[1m74/74\u001b[0m \u001b[32m━━━━━━━━━━━━━━━━━━━━\u001b[0m\u001b[37m\u001b[0m \u001b[1m1s\u001b[0m 8ms/step - accuracy: 0.9947 - loss: 0.0330 - val_accuracy: 0.9962 - val_loss: 0.0221 - learning_rate: 5.0000e-04\n",
      "Epoch 35/100\n",
      "\u001b[1m68/74\u001b[0m \u001b[32m━━━━━━━━━━━━━━━━━━\u001b[0m\u001b[37m━━\u001b[0m \u001b[1m0s\u001b[0m 7ms/step - accuracy: 0.9995 - loss: 0.0035\n",
      "Epoch 35: val_accuracy did not improve from 0.99617\n",
      "\u001b[1m74/74\u001b[0m \u001b[32m━━━━━━━━━━━━━━━━━━━━\u001b[0m\u001b[37m\u001b[0m \u001b[1m1s\u001b[0m 8ms/step - accuracy: 0.9994 - loss: 0.0041 - val_accuracy: 0.9962 - val_loss: 0.0178 - learning_rate: 2.5000e-04\n",
      "Epoch 36/100\n",
      "\u001b[1m71/74\u001b[0m \u001b[32m━━━━━━━━━━━━━━━━━━━\u001b[0m\u001b[37m━\u001b[0m \u001b[1m0s\u001b[0m 7ms/step - accuracy: 0.9988 - loss: 0.0054\n",
      "Epoch 36: val_accuracy did not improve from 0.99617\n",
      "\u001b[1m74/74\u001b[0m \u001b[32m━━━━━━━━━━━━━━━━━━━━\u001b[0m\u001b[37m\u001b[0m \u001b[1m1s\u001b[0m 8ms/step - accuracy: 0.9988 - loss: 0.0055 - val_accuracy: 0.9962 - val_loss: 0.0206 - learning_rate: 2.5000e-04\n",
      "Epoch 37/100\n",
      "\u001b[1m71/74\u001b[0m \u001b[32m━━━━━━━━━━━━━━━━━━━\u001b[0m\u001b[37m━\u001b[0m \u001b[1m0s\u001b[0m 7ms/step - accuracy: 0.9988 - loss: 0.0044\n",
      "Epoch 37: val_accuracy did not improve from 0.99617\n",
      "\u001b[1m74/74\u001b[0m \u001b[32m━━━━━━━━━━━━━━━━━━━━\u001b[0m\u001b[37m\u001b[0m \u001b[1m1s\u001b[0m 8ms/step - accuracy: 0.9988 - loss: 0.0044 - val_accuracy: 0.9962 - val_loss: 0.0215 - learning_rate: 2.5000e-04\n",
      "Epoch 38/100\n",
      "\u001b[1m70/74\u001b[0m \u001b[32m━━━━━━━━━━━━━━━━━━\u001b[0m\u001b[37m━━\u001b[0m \u001b[1m0s\u001b[0m 8ms/step - accuracy: 0.9986 - loss: 0.0032\n",
      "Epoch 38: val_accuracy did not improve from 0.99617\n",
      "\u001b[1m74/74\u001b[0m \u001b[32m━━━━━━━━━━━━━━━━━━━━\u001b[0m\u001b[37m\u001b[0m \u001b[1m1s\u001b[0m 8ms/step - accuracy: 0.9986 - loss: 0.0032 - val_accuracy: 0.9962 - val_loss: 0.0138 - learning_rate: 2.5000e-04\n",
      "Epoch 39/100\n",
      "\u001b[1m71/74\u001b[0m \u001b[32m━━━━━━━━━━━━━━━━━━━\u001b[0m\u001b[37m━\u001b[0m \u001b[1m0s\u001b[0m 7ms/step - accuracy: 0.9948 - loss: 0.0168\n",
      "Epoch 39: val_accuracy did not improve from 0.99617\n",
      "\u001b[1m74/74\u001b[0m \u001b[32m━━━━━━━━━━━━━━━━━━━━\u001b[0m\u001b[37m\u001b[0m \u001b[1m1s\u001b[0m 8ms/step - accuracy: 0.9949 - loss: 0.0165 - val_accuracy: 0.9962 - val_loss: 0.0138 - learning_rate: 2.5000e-04\n",
      "Epoch 40/100\n",
      "\u001b[1m71/74\u001b[0m \u001b[32m━━━━━━━━━━━━━━━━━━━\u001b[0m\u001b[37m━\u001b[0m \u001b[1m0s\u001b[0m 8ms/step - accuracy: 0.9996 - loss: 0.0017\n",
      "Epoch 40: val_accuracy did not improve from 0.99617\n",
      "\u001b[1m74/74\u001b[0m \u001b[32m━━━━━━━━━━━━━━━━━━━━\u001b[0m\u001b[37m\u001b[0m \u001b[1m1s\u001b[0m 8ms/step - accuracy: 0.9996 - loss: 0.0018 - val_accuracy: 0.9962 - val_loss: 0.0127 - learning_rate: 2.5000e-04\n",
      "Epoch 41/100\n",
      "\u001b[1m71/74\u001b[0m \u001b[32m━━━━━━━━━━━━━━━━━━━\u001b[0m\u001b[37m━\u001b[0m \u001b[1m0s\u001b[0m 8ms/step - accuracy: 0.9996 - loss: 0.0020\n",
      "Epoch 41: val_accuracy did not improve from 0.99617\n",
      "\u001b[1m74/74\u001b[0m \u001b[32m━━━━━━━━━━━━━━━━━━━━\u001b[0m\u001b[37m\u001b[0m \u001b[1m1s\u001b[0m 8ms/step - accuracy: 0.9995 - loss: 0.0021 - val_accuracy: 0.9962 - val_loss: 0.0148 - learning_rate: 2.5000e-04\n",
      "Epoch 42/100\n",
      "\u001b[1m73/74\u001b[0m \u001b[32m━━━━━━━━━━━━━━━━━━━\u001b[0m\u001b[37m━\u001b[0m \u001b[1m0s\u001b[0m 7ms/step - accuracy: 0.9928 - loss: 0.0203\n",
      "Epoch 42: val_accuracy did not improve from 0.99617\n",
      "\u001b[1m74/74\u001b[0m \u001b[32m━━━━━━━━━━━━━━━━━━━━\u001b[0m\u001b[37m\u001b[0m \u001b[1m1s\u001b[0m 8ms/step - accuracy: 0.9930 - loss: 0.0200 - val_accuracy: 0.9962 - val_loss: 0.0132 - learning_rate: 2.5000e-04\n",
      "Epoch 43/100\n",
      "\u001b[1m73/74\u001b[0m \u001b[32m━━━━━━━━━━━━━━━━━━━\u001b[0m\u001b[37m━\u001b[0m \u001b[1m0s\u001b[0m 7ms/step - accuracy: 0.9996 - loss: 0.0020\n",
      "Epoch 43: val_accuracy did not improve from 0.99617\n",
      "\u001b[1m74/74\u001b[0m \u001b[32m━━━━━━━━━━━━━━━━━━━━\u001b[0m\u001b[37m\u001b[0m \u001b[1m1s\u001b[0m 8ms/step - accuracy: 0.9996 - loss: 0.0021 - val_accuracy: 0.9962 - val_loss: 0.0105 - learning_rate: 2.5000e-04\n",
      "Epoch 44/100\n",
      "\u001b[1m67/74\u001b[0m \u001b[32m━━━━━━━━━━━━━━━━━━\u001b[0m\u001b[37m━━\u001b[0m \u001b[1m0s\u001b[0m 7ms/step - accuracy: 0.9968 - loss: 0.0121\n",
      "Epoch 44: val_accuracy did not improve from 0.99617\n",
      "\n",
      "Epoch 44: ReduceLROnPlateau reducing learning rate to 0.0001250000059371814.\n",
      "\u001b[1m74/74\u001b[0m \u001b[32m━━━━━━━━━━━━━━━━━━━━\u001b[0m\u001b[37m\u001b[0m \u001b[1m1s\u001b[0m 8ms/step - accuracy: 0.9968 - loss: 0.0121 - val_accuracy: 0.9962 - val_loss: 0.0398 - learning_rate: 2.5000e-04\n",
      "Epoch 45/100\n",
      "\u001b[1m69/74\u001b[0m \u001b[32m━━━━━━━━━━━━━━━━━━\u001b[0m\u001b[37m━━\u001b[0m \u001b[1m0s\u001b[0m 8ms/step - accuracy: 0.9998 - loss: 0.0036\n",
      "Epoch 45: val_accuracy did not improve from 0.99617\n",
      "\u001b[1m74/74\u001b[0m \u001b[32m━━━━━━━━━━━━━━━━━━━━\u001b[0m\u001b[37m\u001b[0m \u001b[1m1s\u001b[0m 8ms/step - accuracy: 0.9997 - loss: 0.0034 - val_accuracy: 0.9962 - val_loss: 0.0116 - learning_rate: 1.2500e-04\n",
      "Epoch 46/100\n",
      "\u001b[1m71/74\u001b[0m \u001b[32m━━━━━━━━━━━━━━━━━━━\u001b[0m\u001b[37m━\u001b[0m \u001b[1m0s\u001b[0m 8ms/step - accuracy: 0.9998 - loss: 6.6015e-04\n",
      "Epoch 46: val_accuracy did not improve from 0.99617\n",
      "\u001b[1m74/74\u001b[0m \u001b[32m━━━━━━━━━━━━━━━━━━━━\u001b[0m\u001b[37m\u001b[0m \u001b[1m1s\u001b[0m 8ms/step - accuracy: 0.9998 - loss: 6.9311e-04 - val_accuracy: 0.9962 - val_loss: 0.0095 - learning_rate: 1.2500e-04\n",
      "Epoch 47/100\n",
      "\u001b[1m69/74\u001b[0m \u001b[32m━━━━━━━━━━━━━━━━━━\u001b[0m\u001b[37m━━\u001b[0m \u001b[1m0s\u001b[0m 8ms/step - accuracy: 0.9995 - loss: 0.0012\n",
      "Epoch 47: val_accuracy did not improve from 0.99617\n",
      "\u001b[1m74/74\u001b[0m \u001b[32m━━━━━━━━━━━━━━━━━━━━\u001b[0m\u001b[37m\u001b[0m \u001b[1m1s\u001b[0m 8ms/step - accuracy: 0.9995 - loss: 0.0013 - val_accuracy: 0.9962 - val_loss: 0.0221 - learning_rate: 1.2500e-04\n",
      "Epoch 48/100\n",
      "\u001b[1m71/74\u001b[0m \u001b[32m━━━━━━━━━━━━━━━━━━━\u001b[0m\u001b[37m━\u001b[0m \u001b[1m0s\u001b[0m 8ms/step - accuracy: 0.9989 - loss: 0.0035\n",
      "Epoch 48: val_accuracy did not improve from 0.99617\n",
      "\u001b[1m74/74\u001b[0m \u001b[32m━━━━━━━━━━━━━━━━━━━━\u001b[0m\u001b[37m\u001b[0m \u001b[1m1s\u001b[0m 8ms/step - accuracy: 0.9989 - loss: 0.0034 - val_accuracy: 0.9962 - val_loss: 0.0106 - learning_rate: 1.2500e-04\n",
      "Epoch 49/100\n",
      "\u001b[1m73/74\u001b[0m \u001b[32m━━━━━━━━━━━━━━━━━━━\u001b[0m\u001b[37m━\u001b[0m \u001b[1m0s\u001b[0m 8ms/step - accuracy: 0.9999 - loss: 6.9568e-04\n",
      "Epoch 49: val_accuracy did not improve from 0.99617\n",
      "\u001b[1m74/74\u001b[0m \u001b[32m━━━━━━━━━━━━━━━━━━━━\u001b[0m\u001b[37m\u001b[0m \u001b[1m1s\u001b[0m 8ms/step - accuracy: 0.9999 - loss: 7.0899e-04 - val_accuracy: 0.9962 - val_loss: 0.0088 - learning_rate: 1.2500e-04\n",
      "Epoch 50/100\n",
      "\u001b[1m72/74\u001b[0m \u001b[32m━━━━━━━━━━━━━━━━━━━\u001b[0m\u001b[37m━\u001b[0m \u001b[1m0s\u001b[0m 7ms/step - accuracy: 0.9998 - loss: 7.2922e-04\n",
      "Epoch 50: val_accuracy did not improve from 0.99617\n",
      "\u001b[1m74/74\u001b[0m \u001b[32m━━━━━━━━━━━━━━━━━━━━\u001b[0m\u001b[37m\u001b[0m \u001b[1m1s\u001b[0m 8ms/step - accuracy: 0.9998 - loss: 7.9784e-04 - val_accuracy: 0.9962 - val_loss: 0.0141 - learning_rate: 1.2500e-04\n",
      "Epoch 51/100\n",
      "\u001b[1m74/74\u001b[0m \u001b[32m━━━━━━━━━━━━━━━━━━━━\u001b[0m\u001b[37m\u001b[0m \u001b[1m0s\u001b[0m 7ms/step - accuracy: 0.9993 - loss: 0.0087\n",
      "Epoch 51: val_accuracy did not improve from 0.99617\n",
      "\u001b[1m74/74\u001b[0m \u001b[32m━━━━━━━━━━━━━━━━━━━━\u001b[0m\u001b[37m\u001b[0m \u001b[1m1s\u001b[0m 8ms/step - accuracy: 0.9993 - loss: 0.0086 - val_accuracy: 0.9962 - val_loss: 0.0088 - learning_rate: 1.2500e-04\n",
      "Epoch 52/100\n",
      "\u001b[1m72/74\u001b[0m \u001b[32m━━━━━━━━━━━━━━━━━━━\u001b[0m\u001b[37m━\u001b[0m \u001b[1m0s\u001b[0m 7ms/step - accuracy: 0.9999 - loss: 7.9798e-04\n",
      "Epoch 52: val_accuracy did not improve from 0.99617\n",
      "\u001b[1m74/74\u001b[0m \u001b[32m━━━━━━━━━━━━━━━━━━━━\u001b[0m\u001b[37m\u001b[0m \u001b[1m1s\u001b[0m 8ms/step - accuracy: 0.9999 - loss: 8.1466e-04 - val_accuracy: 0.9962 - val_loss: 0.0083 - learning_rate: 1.2500e-04\n",
      "Epoch 53/100\n",
      "\u001b[1m71/74\u001b[0m \u001b[32m━━━━━━━━━━━━━━━━━━━\u001b[0m\u001b[37m━\u001b[0m \u001b[1m0s\u001b[0m 7ms/step - accuracy: 0.9985 - loss: 0.0026\n",
      "Epoch 53: val_accuracy did not improve from 0.99617\n",
      "\u001b[1m74/74\u001b[0m \u001b[32m━━━━━━━━━━━━━━━━━━━━\u001b[0m\u001b[37m\u001b[0m \u001b[1m1s\u001b[0m 8ms/step - accuracy: 0.9986 - loss: 0.0025 - val_accuracy: 0.9962 - val_loss: 0.0168 - learning_rate: 1.2500e-04\n",
      "Epoch 54/100\n",
      "\u001b[1m70/74\u001b[0m \u001b[32m━━━━━━━━━━━━━━━━━━\u001b[0m\u001b[37m━━\u001b[0m \u001b[1m0s\u001b[0m 8ms/step - accuracy: 0.9989 - loss: 0.0028\n",
      "Epoch 54: val_accuracy did not improve from 0.99617\n",
      "\n",
      "Epoch 54: ReduceLROnPlateau reducing learning rate to 6.25000029685907e-05.\n",
      "\u001b[1m74/74\u001b[0m \u001b[32m━━━━━━━━━━━━━━━━━━━━\u001b[0m\u001b[37m\u001b[0m \u001b[1m1s\u001b[0m 8ms/step - accuracy: 0.9989 - loss: 0.0028 - val_accuracy: 0.9962 - val_loss: 0.0076 - learning_rate: 1.2500e-04\n",
      "Epoch 55/100\n",
      "\u001b[1m71/74\u001b[0m \u001b[32m━━━━━━━━━━━━━━━━━━━\u001b[0m\u001b[37m━\u001b[0m \u001b[1m0s\u001b[0m 8ms/step - accuracy: 0.9997 - loss: 8.7396e-04\n",
      "Epoch 55: val_accuracy did not improve from 0.99617\n",
      "\u001b[1m74/74\u001b[0m \u001b[32m━━━━━━━━━━━━━━━━━━━━\u001b[0m\u001b[37m\u001b[0m \u001b[1m1s\u001b[0m 8ms/step - accuracy: 0.9996 - loss: 9.1768e-04 - val_accuracy: 0.9962 - val_loss: 0.0185 - learning_rate: 6.2500e-05\n",
      "Epoch 56/100\n",
      "\u001b[1m70/74\u001b[0m \u001b[32m━━━━━━━━━━━━━━━━━━\u001b[0m\u001b[37m━━\u001b[0m \u001b[1m0s\u001b[0m 8ms/step - accuracy: 0.9978 - loss: 0.0038\n",
      "Epoch 56: val_accuracy did not improve from 0.99617\n",
      "\u001b[1m74/74\u001b[0m \u001b[32m━━━━━━━━━━━━━━━━━━━━\u001b[0m\u001b[37m\u001b[0m \u001b[1m1s\u001b[0m 8ms/step - accuracy: 0.9979 - loss: 0.0038 - val_accuracy: 0.9962 - val_loss: 0.0097 - learning_rate: 6.2500e-05\n",
      "Epoch 57/100\n",
      "\u001b[1m72/74\u001b[0m \u001b[32m━━━━━━━━━━━━━━━━━━━\u001b[0m\u001b[37m━\u001b[0m \u001b[1m0s\u001b[0m 8ms/step - accuracy: 0.9999 - loss: 3.8672e-04\n",
      "Epoch 57: val_accuracy did not improve from 0.99617\n",
      "\u001b[1m74/74\u001b[0m \u001b[32m━━━━━━━━━━━━━━━━━━━━\u001b[0m\u001b[37m\u001b[0m \u001b[1m1s\u001b[0m 8ms/step - accuracy: 0.9999 - loss: 4.1228e-04 - val_accuracy: 0.9962 - val_loss: 0.0079 - learning_rate: 6.2500e-05\n",
      "Epoch 58/100\n",
      "\u001b[1m72/74\u001b[0m \u001b[32m━━━━━━━━━━━━━━━━━━━\u001b[0m\u001b[37m━\u001b[0m \u001b[1m0s\u001b[0m 7ms/step - accuracy: 0.9989 - loss: 0.0018\n",
      "Epoch 58: val_accuracy did not improve from 0.99617\n",
      "\u001b[1m74/74\u001b[0m \u001b[32m━━━━━━━━━━━━━━━━━━━━\u001b[0m\u001b[37m\u001b[0m \u001b[1m1s\u001b[0m 8ms/step - accuracy: 0.9989 - loss: 0.0019 - val_accuracy: 0.9962 - val_loss: 0.0153 - learning_rate: 6.2500e-05\n",
      "Epoch 59/100\n",
      "\u001b[1m71/74\u001b[0m \u001b[32m━━━━━━━━━━━━━━━━━━━\u001b[0m\u001b[37m━\u001b[0m \u001b[1m0s\u001b[0m 8ms/step - accuracy: 1.0000 - loss: 5.2083e-04\n",
      "Epoch 59: val_accuracy did not improve from 0.99617\n",
      "\u001b[1m74/74\u001b[0m \u001b[32m━━━━━━━━━━━━━━━━━━━━\u001b[0m\u001b[37m\u001b[0m \u001b[1m1s\u001b[0m 8ms/step - accuracy: 1.0000 - loss: 5.6066e-04 - val_accuracy: 0.9962 - val_loss: 0.0100 - learning_rate: 6.2500e-05\n",
      "Epoch 60/100\n",
      "\u001b[1m68/74\u001b[0m \u001b[32m━━━━━━━━━━━━━━━━━━\u001b[0m\u001b[37m━━\u001b[0m \u001b[1m0s\u001b[0m 8ms/step - accuracy: 0.9998 - loss: 6.2724e-04\n",
      "Epoch 60: val_accuracy did not improve from 0.99617\n",
      "\u001b[1m74/74\u001b[0m \u001b[32m━━━━━━━━━━━━━━━━━━━━\u001b[0m\u001b[37m\u001b[0m \u001b[1m1s\u001b[0m 9ms/step - accuracy: 0.9998 - loss: 6.4908e-04 - val_accuracy: 0.9962 - val_loss: 0.0068 - learning_rate: 6.2500e-05\n",
      "Epoch 61/100\n",
      "\u001b[1m71/74\u001b[0m \u001b[32m━━━━━━━━━━━━━━━━━━━\u001b[0m\u001b[37m━\u001b[0m \u001b[1m0s\u001b[0m 8ms/step - accuracy: 0.9990 - loss: 0.0023\n",
      "Epoch 61: val_accuracy did not improve from 0.99617\n",
      "\u001b[1m74/74\u001b[0m \u001b[32m━━━━━━━━━━━━━━━━━━━━\u001b[0m\u001b[37m\u001b[0m \u001b[1m1s\u001b[0m 8ms/step - accuracy: 0.9990 - loss: 0.0023 - val_accuracy: 0.9962 - val_loss: 0.0129 - learning_rate: 6.2500e-05\n",
      "Epoch 62/100\n",
      "\u001b[1m73/74\u001b[0m \u001b[32m━━━━━━━━━━━━━━━━━━━\u001b[0m\u001b[37m━\u001b[0m \u001b[1m0s\u001b[0m 7ms/step - accuracy: 0.9999 - loss: 7.4584e-04\n",
      "Epoch 62: val_accuracy did not improve from 0.99617\n",
      "\u001b[1m74/74\u001b[0m \u001b[32m━━━━━━━━━━━━━━━━━━━━\u001b[0m\u001b[37m\u001b[0m \u001b[1m1s\u001b[0m 8ms/step - accuracy: 0.9999 - loss: 7.6374e-04 - val_accuracy: 0.9962 - val_loss: 0.0082 - learning_rate: 6.2500e-05\n",
      "Epoch 63/100\n",
      "\u001b[1m73/74\u001b[0m \u001b[32m━━━━━━━━━━━━━━━━━━━\u001b[0m\u001b[37m━\u001b[0m \u001b[1m0s\u001b[0m 7ms/step - accuracy: 0.9995 - loss: 9.6108e-04\n",
      "Epoch 63: val_accuracy did not improve from 0.99617\n",
      "\u001b[1m74/74\u001b[0m \u001b[32m━━━━━━━━━━━━━━━━━━━━\u001b[0m\u001b[37m\u001b[0m \u001b[1m1s\u001b[0m 8ms/step - accuracy: 0.9995 - loss: 9.5698e-04 - val_accuracy: 0.9962 - val_loss: 0.0065 - learning_rate: 6.2500e-05\n",
      "Epoch 64/100\n",
      "\u001b[1m72/74\u001b[0m \u001b[32m━━━━━━━━━━━━━━━━━━━\u001b[0m\u001b[37m━\u001b[0m \u001b[1m0s\u001b[0m 8ms/step - accuracy: 0.9997 - loss: 5.4073e-04\n",
      "Epoch 64: val_accuracy did not improve from 0.99617\n",
      "\n",
      "Epoch 64: ReduceLROnPlateau reducing learning rate to 3.125000148429535e-05.\n",
      "\u001b[1m74/74\u001b[0m \u001b[32m━━━━━━━━━━━━━━━━━━━━\u001b[0m\u001b[37m\u001b[0m \u001b[1m1s\u001b[0m 8ms/step - accuracy: 0.9997 - loss: 5.8478e-04 - val_accuracy: 0.9962 - val_loss: 0.0208 - learning_rate: 6.2500e-05\n",
      "Epoch 65/100\n",
      "\u001b[1m73/74\u001b[0m \u001b[32m━━━━━━━━━━━━━━━━━━━\u001b[0m\u001b[37m━\u001b[0m \u001b[1m0s\u001b[0m 7ms/step - accuracy: 0.9987 - loss: 0.0046\n",
      "Epoch 65: val_accuracy did not improve from 0.99617\n",
      "\u001b[1m74/74\u001b[0m \u001b[32m━━━━━━━━━━━━━━━━━━━━\u001b[0m\u001b[37m\u001b[0m \u001b[1m1s\u001b[0m 8ms/step - accuracy: 0.9987 - loss: 0.0045 - val_accuracy: 0.9962 - val_loss: 0.0100 - learning_rate: 3.1250e-05\n",
      "Epoch 66/100\n",
      "\u001b[1m72/74\u001b[0m \u001b[32m━━━━━━━━━━━━━━━━━━━\u001b[0m\u001b[37m━\u001b[0m \u001b[1m0s\u001b[0m 7ms/step - accuracy: 0.9999 - loss: 5.7608e-04\n",
      "Epoch 66: val_accuracy did not improve from 0.99617\n",
      "\u001b[1m74/74\u001b[0m \u001b[32m━━━━━━━━━━━━━━━━━━━━\u001b[0m\u001b[37m\u001b[0m \u001b[1m1s\u001b[0m 8ms/step - accuracy: 0.9998 - loss: 5.9968e-04 - val_accuracy: 0.9962 - val_loss: 0.0081 - learning_rate: 3.1250e-05\n",
      "Epoch 67/100\n",
      "\u001b[1m72/74\u001b[0m \u001b[32m━━━━━━━━━━━━━━━━━━━\u001b[0m\u001b[37m━\u001b[0m \u001b[1m0s\u001b[0m 7ms/step - accuracy: 0.9993 - loss: 0.0012\n",
      "Epoch 67: val_accuracy did not improve from 0.99617\n",
      "\u001b[1m74/74\u001b[0m \u001b[32m━━━━━━━━━━━━━━━━━━━━\u001b[0m\u001b[37m\u001b[0m \u001b[1m1s\u001b[0m 8ms/step - accuracy: 0.9993 - loss: 0.0012 - val_accuracy: 0.9962 - val_loss: 0.0068 - learning_rate: 3.1250e-05\n",
      "Epoch 68/100\n",
      "\u001b[1m67/74\u001b[0m \u001b[32m━━━━━━━━━━━━━━━━━━\u001b[0m\u001b[37m━━\u001b[0m \u001b[1m0s\u001b[0m 7ms/step - accuracy: 1.0000 - loss: 1.6552e-04\n",
      "Epoch 68: val_accuracy did not improve from 0.99617\n",
      "\u001b[1m74/74\u001b[0m \u001b[32m━━━━━━━━━━━━━━━━━━━━\u001b[0m\u001b[37m\u001b[0m \u001b[1m1s\u001b[0m 8ms/step - accuracy: 1.0000 - loss: 1.9508e-04 - val_accuracy: 0.9962 - val_loss: 0.0064 - learning_rate: 3.1250e-05\n",
      "Epoch 69/100\n",
      "\u001b[1m73/74\u001b[0m \u001b[32m━━━━━━━━━━━━━━━━━━━\u001b[0m\u001b[37m━\u001b[0m \u001b[1m0s\u001b[0m 7ms/step - accuracy: 0.9982 - loss: 0.0021\n",
      "Epoch 69: val_accuracy did not improve from 0.99617\n",
      "\u001b[1m74/74\u001b[0m \u001b[32m━━━━━━━━━━━━━━━━━━━━\u001b[0m\u001b[37m\u001b[0m \u001b[1m1s\u001b[0m 8ms/step - accuracy: 0.9983 - loss: 0.0021 - val_accuracy: 0.9962 - val_loss: 0.0111 - learning_rate: 3.1250e-05\n",
      "Epoch 70/100\n",
      "\u001b[1m74/74\u001b[0m \u001b[32m━━━━━━━━━━━━━━━━━━━━\u001b[0m\u001b[37m\u001b[0m \u001b[1m0s\u001b[0m 7ms/step - accuracy: 0.9998 - loss: 0.0016\n",
      "Epoch 70: val_accuracy did not improve from 0.99617\n",
      "\u001b[1m74/74\u001b[0m \u001b[32m━━━━━━━━━━━━━━━━━━━━\u001b[0m\u001b[37m\u001b[0m \u001b[1m1s\u001b[0m 8ms/step - accuracy: 0.9998 - loss: 0.0016 - val_accuracy: 0.9962 - val_loss: 0.0088 - learning_rate: 3.1250e-05\n",
      "Epoch 71/100\n",
      "\u001b[1m67/74\u001b[0m \u001b[32m━━━━━━━━━━━━━━━━━━\u001b[0m\u001b[37m━━\u001b[0m \u001b[1m0s\u001b[0m 7ms/step - accuracy: 0.9998 - loss: 7.3600e-04\n",
      "Epoch 71: val_accuracy did not improve from 0.99617\n",
      "\u001b[1m74/74\u001b[0m \u001b[32m━━━━━━━━━━━━━━━━━━━━\u001b[0m\u001b[37m\u001b[0m \u001b[1m1s\u001b[0m 8ms/step - accuracy: 0.9998 - loss: 7.6261e-04 - val_accuracy: 0.9962 - val_loss: 0.0070 - learning_rate: 3.1250e-05\n",
      "Epoch 72/100\n",
      "\u001b[1m74/74\u001b[0m \u001b[32m━━━━━━━━━━━━━━━━━━━━\u001b[0m\u001b[37m\u001b[0m \u001b[1m0s\u001b[0m 7ms/step - accuracy: 1.0000 - loss: 1.7070e-04\n",
      "Epoch 72: val_accuracy did not improve from 0.99617\n",
      "\u001b[1m74/74\u001b[0m \u001b[32m━━━━━━━━━━━━━━━━━━━━\u001b[0m\u001b[37m\u001b[0m \u001b[1m1s\u001b[0m 8ms/step - accuracy: 1.0000 - loss: 1.7786e-04 - val_accuracy: 0.9962 - val_loss: 0.0062 - learning_rate: 3.1250e-05\n",
      "Epoch 73/100\n",
      "\u001b[1m73/74\u001b[0m \u001b[32m━━━━━━━━━━━━━━━━━━━\u001b[0m\u001b[37m━\u001b[0m \u001b[1m0s\u001b[0m 7ms/step - accuracy: 0.9999 - loss: 3.1500e-04\n",
      "Epoch 73: val_accuracy did not improve from 0.99617\n",
      "\u001b[1m74/74\u001b[0m \u001b[32m━━━━━━━━━━━━━━━━━━━━\u001b[0m\u001b[37m\u001b[0m \u001b[1m1s\u001b[0m 8ms/step - accuracy: 0.9998 - loss: 3.2521e-04 - val_accuracy: 0.9962 - val_loss: 0.0060 - learning_rate: 3.1250e-05\n",
      "Epoch 74/100\n",
      "\u001b[1m70/74\u001b[0m \u001b[32m━━━━━━━━━━━━━━━━━━\u001b[0m\u001b[37m━━\u001b[0m \u001b[1m0s\u001b[0m 8ms/step - accuracy: 0.9996 - loss: 6.0595e-04\n",
      "Epoch 74: val_accuracy did not improve from 0.99617\n",
      "\n",
      "Epoch 74: ReduceLROnPlateau reducing learning rate to 1.5625000742147677e-05.\n",
      "\u001b[1m74/74\u001b[0m \u001b[32m━━━━━━━━━━━━━━━━━━━━\u001b[0m\u001b[37m\u001b[0m \u001b[1m1s\u001b[0m 8ms/step - accuracy: 0.9996 - loss: 6.1360e-04 - val_accuracy: 0.9962 - val_loss: 0.0074 - learning_rate: 3.1250e-05\n",
      "Epoch 75/100\n",
      "\u001b[1m69/74\u001b[0m \u001b[32m━━━━━━━━━━━━━━━━━━\u001b[0m\u001b[37m━━\u001b[0m \u001b[1m0s\u001b[0m 8ms/step - accuracy: 0.9992 - loss: 0.0013\n",
      "Epoch 75: val_accuracy did not improve from 0.99617\n",
      "\u001b[1m74/74\u001b[0m \u001b[32m━━━━━━━━━━━━━━━━━━━━\u001b[0m\u001b[37m\u001b[0m \u001b[1m1s\u001b[0m 8ms/step - accuracy: 0.9993 - loss: 0.0012 - val_accuracy: 0.9962 - val_loss: 0.0067 - learning_rate: 1.5625e-05\n",
      "Epoch 76/100\n",
      "\u001b[1m74/74\u001b[0m \u001b[32m━━━━━━━━━━━━━━━━━━━━\u001b[0m\u001b[37m\u001b[0m \u001b[1m0s\u001b[0m 7ms/step - accuracy: 0.9998 - loss: 3.5255e-04\n",
      "Epoch 76: val_accuracy did not improve from 0.99617\n",
      "\u001b[1m74/74\u001b[0m \u001b[32m━━━━━━━━━━━━━━━━━━━━\u001b[0m\u001b[37m\u001b[0m \u001b[1m1s\u001b[0m 8ms/step - accuracy: 0.9998 - loss: 3.5731e-04 - val_accuracy: 0.9962 - val_loss: 0.0060 - learning_rate: 1.5625e-05\n",
      "Epoch 77/100\n",
      "\u001b[1m71/74\u001b[0m \u001b[32m━━━━━━━━━━━━━━━━━━━\u001b[0m\u001b[37m━\u001b[0m \u001b[1m0s\u001b[0m 8ms/step - accuracy: 1.0000 - loss: 2.1310e-04\n",
      "Epoch 77: val_accuracy did not improve from 0.99617\n",
      "\u001b[1m74/74\u001b[0m \u001b[32m━━━━━━━━━━━━━━━━━━━━\u001b[0m\u001b[37m\u001b[0m \u001b[1m1s\u001b[0m 8ms/step - accuracy: 1.0000 - loss: 2.3514e-04 - val_accuracy: 0.9962 - val_loss: 0.0058 - learning_rate: 1.5625e-05\n",
      "Epoch 78/100\n",
      "\u001b[1m72/74\u001b[0m \u001b[32m━━━━━━━━━━━━━━━━━━━\u001b[0m\u001b[37m━\u001b[0m \u001b[1m0s\u001b[0m 7ms/step - accuracy: 0.9994 - loss: 7.8519e-04\n",
      "Epoch 78: val_accuracy did not improve from 0.99617\n",
      "\u001b[1m74/74\u001b[0m \u001b[32m━━━━━━━━━━━━━━━━━━━━\u001b[0m\u001b[37m\u001b[0m \u001b[1m1s\u001b[0m 8ms/step - accuracy: 0.9994 - loss: 7.7740e-04 - val_accuracy: 0.9962 - val_loss: 0.0052 - learning_rate: 1.5625e-05\n",
      "Epoch 79/100\n",
      "\u001b[1m72/74\u001b[0m \u001b[32m━━━━━━━━━━━━━━━━━━━\u001b[0m\u001b[37m━\u001b[0m \u001b[1m0s\u001b[0m 7ms/step - accuracy: 1.0000 - loss: 1.3710e-04\n",
      "Epoch 79: val_accuracy did not improve from 0.99617\n",
      "\u001b[1m74/74\u001b[0m \u001b[32m━━━━━━━━━━━━━━━━━━━━\u001b[0m\u001b[37m\u001b[0m \u001b[1m1s\u001b[0m 8ms/step - accuracy: 1.0000 - loss: 1.5609e-04 - val_accuracy: 0.9962 - val_loss: 0.0056 - learning_rate: 1.5625e-05\n",
      "Epoch 80/100\n",
      "\u001b[1m70/74\u001b[0m \u001b[32m━━━━━━━━━━━━━━━━━━\u001b[0m\u001b[37m━━\u001b[0m \u001b[1m0s\u001b[0m 8ms/step - accuracy: 0.9997 - loss: 4.8116e-04\n",
      "Epoch 80: val_accuracy did not improve from 0.99617\n",
      "\u001b[1m74/74\u001b[0m \u001b[32m━━━━━━━━━━━━━━━━━━━━\u001b[0m\u001b[37m\u001b[0m \u001b[1m1s\u001b[0m 8ms/step - accuracy: 0.9997 - loss: 4.9182e-04 - val_accuracy: 0.9962 - val_loss: 0.0055 - learning_rate: 1.5625e-05\n",
      "Epoch 81/100\n",
      "\u001b[1m72/74\u001b[0m \u001b[32m━━━━━━━━━━━━━━━━━━━\u001b[0m\u001b[37m━\u001b[0m \u001b[1m0s\u001b[0m 7ms/step - accuracy: 0.9990 - loss: 0.0012\n",
      "Epoch 81: val_accuracy did not improve from 0.99617\n",
      "\u001b[1m74/74\u001b[0m \u001b[32m━━━━━━━━━━━━━━━━━━━━\u001b[0m\u001b[37m\u001b[0m \u001b[1m1s\u001b[0m 8ms/step - accuracy: 0.9990 - loss: 0.0012 - val_accuracy: 0.9962 - val_loss: 0.0060 - learning_rate: 1.5625e-05\n",
      "Epoch 82/100\n",
      "\u001b[1m73/74\u001b[0m \u001b[32m━━━━━━━━━━━━━━━━━━━\u001b[0m\u001b[37m━\u001b[0m \u001b[1m0s\u001b[0m 7ms/step - accuracy: 0.9997 - loss: 4.1276e-04\n",
      "Epoch 82: val_accuracy did not improve from 0.99617\n",
      "\u001b[1m74/74\u001b[0m \u001b[32m━━━━━━━━━━━━━━━━━━━━\u001b[0m\u001b[37m\u001b[0m \u001b[1m1s\u001b[0m 8ms/step - accuracy: 0.9997 - loss: 4.1864e-04 - val_accuracy: 0.9962 - val_loss: 0.0054 - learning_rate: 1.5625e-05\n",
      "Epoch 83/100\n",
      "\u001b[1m71/74\u001b[0m \u001b[32m━━━━━━━━━━━━━━━━━━━\u001b[0m\u001b[37m━\u001b[0m \u001b[1m0s\u001b[0m 8ms/step - accuracy: 0.9993 - loss: 0.0011\n",
      "Epoch 83: val_accuracy did not improve from 0.99617\n",
      "\u001b[1m74/74\u001b[0m \u001b[32m━━━━━━━━━━━━━━━━━━━━\u001b[0m\u001b[37m\u001b[0m \u001b[1m1s\u001b[0m 8ms/step - accuracy: 0.9993 - loss: 0.0010 - val_accuracy: 0.9962 - val_loss: 0.0060 - learning_rate: 1.5625e-05\n",
      "Epoch 84/100\n",
      "\u001b[1m71/74\u001b[0m \u001b[32m━━━━━━━━━━━━━━━━━━━\u001b[0m\u001b[37m━\u001b[0m \u001b[1m0s\u001b[0m 7ms/step - accuracy: 0.9993 - loss: 9.4846e-04\n",
      "Epoch 84: val_accuracy did not improve from 0.99617\n",
      "\n",
      "Epoch 84: ReduceLROnPlateau reducing learning rate to 7.812500371073838e-06.\n",
      "\u001b[1m74/74\u001b[0m \u001b[32m━━━━━━━━━━━━━━━━━━━━\u001b[0m\u001b[37m\u001b[0m \u001b[1m1s\u001b[0m 8ms/step - accuracy: 0.9993 - loss: 9.3187e-04 - val_accuracy: 0.9962 - val_loss: 0.0054 - learning_rate: 1.5625e-05\n",
      "Epoch 85/100\n",
      "\u001b[1m71/74\u001b[0m \u001b[32m━━━━━━━━━━━━━━━━━━━\u001b[0m\u001b[37m━\u001b[0m \u001b[1m0s\u001b[0m 7ms/step - accuracy: 0.9998 - loss: 3.4026e-04\n",
      "Epoch 85: val_accuracy did not improve from 0.99617\n",
      "\u001b[1m74/74\u001b[0m \u001b[32m━━━━━━━━━━━━━━━━━━━━\u001b[0m\u001b[37m\u001b[0m \u001b[1m1s\u001b[0m 8ms/step - accuracy: 0.9998 - loss: 3.5330e-04 - val_accuracy: 0.9962 - val_loss: 0.0052 - learning_rate: 7.8125e-06\n",
      "Epoch 86/100\n",
      "\u001b[1m72/74\u001b[0m \u001b[32m━━━━━━━━━━━━━━━━━━━\u001b[0m\u001b[37m━\u001b[0m \u001b[1m0s\u001b[0m 8ms/step - accuracy: 0.9997 - loss: 4.0570e-04\n",
      "Epoch 86: val_accuracy did not improve from 0.99617\n",
      "\u001b[1m74/74\u001b[0m \u001b[32m━━━━━━━━━━━━━━━━━━━━\u001b[0m\u001b[37m\u001b[0m \u001b[1m1s\u001b[0m 8ms/step - accuracy: 0.9997 - loss: 4.1221e-04 - val_accuracy: 0.9962 - val_loss: 0.0051 - learning_rate: 7.8125e-06\n",
      "Epoch 87/100\n",
      "\u001b[1m72/74\u001b[0m \u001b[32m━━━━━━━━━━━━━━━━━━━\u001b[0m\u001b[37m━\u001b[0m \u001b[1m0s\u001b[0m 7ms/step - accuracy: 0.9979 - loss: 0.0022\n",
      "Epoch 87: val_accuracy did not improve from 0.99617\n",
      "\u001b[1m74/74\u001b[0m \u001b[32m━━━━━━━━━━━━━━━━━━━━\u001b[0m\u001b[37m\u001b[0m \u001b[1m1s\u001b[0m 8ms/step - accuracy: 0.9980 - loss: 0.0021 - val_accuracy: 0.9962 - val_loss: 0.0054 - learning_rate: 7.8125e-06\n",
      "Epoch 88/100\n",
      "\u001b[1m73/74\u001b[0m \u001b[32m━━━━━━━━━━━━━━━━━━━\u001b[0m\u001b[37m━\u001b[0m \u001b[1m0s\u001b[0m 7ms/step - accuracy: 0.9993 - loss: 8.5022e-04\n",
      "Epoch 88: val_accuracy did not improve from 0.99617\n",
      "\u001b[1m74/74\u001b[0m \u001b[32m━━━━━━━━━━━━━━━━━━━━\u001b[0m\u001b[37m\u001b[0m \u001b[1m1s\u001b[0m 8ms/step - accuracy: 0.9993 - loss: 8.4306e-04 - val_accuracy: 0.9962 - val_loss: 0.0052 - learning_rate: 7.8125e-06\n",
      "Epoch 89/100\n",
      "\u001b[1m70/74\u001b[0m \u001b[32m━━━━━━━━━━━━━━━━━━\u001b[0m\u001b[37m━━\u001b[0m \u001b[1m0s\u001b[0m 8ms/step - accuracy: 0.9987 - loss: 0.0014\n",
      "Epoch 89: val_accuracy did not improve from 0.99617\n",
      "\u001b[1m74/74\u001b[0m \u001b[32m━━━━━━━━━━━━━━━━━━━━\u001b[0m\u001b[37m\u001b[0m \u001b[1m1s\u001b[0m 8ms/step - accuracy: 0.9987 - loss: 0.0014 - val_accuracy: 0.9962 - val_loss: 0.0051 - learning_rate: 7.8125e-06\n",
      "Epoch 90/100\n",
      "\u001b[1m73/74\u001b[0m \u001b[32m━━━━━━━━━━━━━━━━━━━\u001b[0m\u001b[37m━\u001b[0m \u001b[1m0s\u001b[0m 7ms/step - accuracy: 0.9994 - loss: 6.9544e-04\n",
      "Epoch 90: val_accuracy did not improve from 0.99617\n",
      "\u001b[1m74/74\u001b[0m \u001b[32m━━━━━━━━━━━━━━━━━━━━\u001b[0m\u001b[37m\u001b[0m \u001b[1m1s\u001b[0m 8ms/step - accuracy: 0.9994 - loss: 6.9204e-04 - val_accuracy: 0.9962 - val_loss: 0.0052 - learning_rate: 7.8125e-06\n",
      "Epoch 91/100\n",
      "\u001b[1m72/74\u001b[0m \u001b[32m━━━━━━━━━━━━━━━━━━━\u001b[0m\u001b[37m━\u001b[0m \u001b[1m0s\u001b[0m 7ms/step - accuracy: 0.9995 - loss: 5.8160e-04\n",
      "Epoch 91: val_accuracy did not improve from 0.99617\n",
      "\u001b[1m74/74\u001b[0m \u001b[32m━━━━━━━━━━━━━━━━━━━━\u001b[0m\u001b[37m\u001b[0m \u001b[1m1s\u001b[0m 8ms/step - accuracy: 0.9995 - loss: 5.8076e-04 - val_accuracy: 0.9962 - val_loss: 0.0051 - learning_rate: 7.8125e-06\n",
      "Epoch 92/100\n",
      "\u001b[1m73/74\u001b[0m \u001b[32m━━━━━━━━━━━━━━━━━━━\u001b[0m\u001b[37m━\u001b[0m \u001b[1m0s\u001b[0m 7ms/step - accuracy: 1.0000 - loss: 1.9554e-04\n",
      "Epoch 92: val_accuracy did not improve from 0.99617\n",
      "\u001b[1m74/74\u001b[0m \u001b[32m━━━━━━━━━━━━━━━━━━━━\u001b[0m\u001b[37m\u001b[0m \u001b[1m1s\u001b[0m 8ms/step - accuracy: 1.0000 - loss: 2.0489e-04 - val_accuracy: 0.9962 - val_loss: 0.0050 - learning_rate: 7.8125e-06\n",
      "Epoch 93/100\n",
      "\u001b[1m74/74\u001b[0m \u001b[32m━━━━━━━━━━━━━━━━━━━━\u001b[0m\u001b[37m\u001b[0m \u001b[1m0s\u001b[0m 7ms/step - accuracy: 0.9992 - loss: 9.1392e-04\n",
      "Epoch 93: val_accuracy did not improve from 0.99617\n",
      "\u001b[1m74/74\u001b[0m \u001b[32m━━━━━━━━━━━━━━━━━━━━\u001b[0m\u001b[37m\u001b[0m \u001b[1m1s\u001b[0m 8ms/step - accuracy: 0.9992 - loss: 9.0975e-04 - val_accuracy: 0.9962 - val_loss: 0.0054 - learning_rate: 7.8125e-06\n",
      "Epoch 94/100\n",
      "\u001b[1m71/74\u001b[0m \u001b[32m━━━━━━━━━━━━━━━━━━━\u001b[0m\u001b[37m━\u001b[0m \u001b[1m0s\u001b[0m 7ms/step - accuracy: 1.0000 - loss: 2.6165e-04\n",
      "Epoch 94: val_accuracy did not improve from 0.99617\n",
      "\n",
      "Epoch 94: ReduceLROnPlateau reducing learning rate to 3.906250185536919e-06.\n",
      "\u001b[1m74/74\u001b[0m \u001b[32m━━━━━━━━━━━━━━━━━━━━\u001b[0m\u001b[37m\u001b[0m \u001b[1m1s\u001b[0m 8ms/step - accuracy: 0.9999 - loss: 2.7830e-04 - val_accuracy: 0.9962 - val_loss: 0.0051 - learning_rate: 7.8125e-06\n",
      "Epoch 95/100\n",
      "\u001b[1m73/74\u001b[0m \u001b[32m━━━━━━━━━━━━━━━━━━━\u001b[0m\u001b[37m━\u001b[0m \u001b[1m0s\u001b[0m 7ms/step - accuracy: 1.0000 - loss: 1.7455e-04\n",
      "Epoch 95: val_accuracy did not improve from 0.99617\n",
      "\u001b[1m74/74\u001b[0m \u001b[32m━━━━━━━━━━━━━━━━━━━━\u001b[0m\u001b[37m\u001b[0m \u001b[1m1s\u001b[0m 8ms/step - accuracy: 1.0000 - loss: 1.8419e-04 - val_accuracy: 0.9962 - val_loss: 0.0050 - learning_rate: 3.9063e-06\n",
      "Epoch 96/100\n",
      "\u001b[1m69/74\u001b[0m \u001b[32m━━━━━━━━━━━━━━━━━━\u001b[0m\u001b[37m━━\u001b[0m \u001b[1m0s\u001b[0m 7ms/step - accuracy: 0.9993 - loss: 7.7628e-04\n",
      "Epoch 96: val_accuracy did not improve from 0.99617\n",
      "\u001b[1m74/74\u001b[0m \u001b[32m━━━━━━━━━━━━━━━━━━━━\u001b[0m\u001b[37m\u001b[0m \u001b[1m1s\u001b[0m 8ms/step - accuracy: 0.9993 - loss: 7.5838e-04 - val_accuracy: 0.9962 - val_loss: 0.0049 - learning_rate: 3.9063e-06\n",
      "Epoch 97/100\n",
      "\u001b[1m74/74\u001b[0m \u001b[32m━━━━━━━━━━━━━━━━━━━━\u001b[0m\u001b[37m\u001b[0m \u001b[1m0s\u001b[0m 7ms/step - accuracy: 0.9997 - loss: 3.8025e-04\n",
      "Epoch 97: val_accuracy did not improve from 0.99617\n",
      "\u001b[1m74/74\u001b[0m \u001b[32m━━━━━━━━━━━━━━━━━━━━\u001b[0m\u001b[37m\u001b[0m \u001b[1m1s\u001b[0m 8ms/step - accuracy: 0.9997 - loss: 3.8226e-04 - val_accuracy: 0.9962 - val_loss: 0.0048 - learning_rate: 3.9063e-06\n",
      "Epoch 98/100\n",
      "\u001b[1m72/74\u001b[0m \u001b[32m━━━━━━━━━━━━━━━━━━━\u001b[0m\u001b[37m━\u001b[0m \u001b[1m0s\u001b[0m 7ms/step - accuracy: 0.9998 - loss: 2.8270e-04\n",
      "Epoch 98: val_accuracy did not improve from 0.99617\n",
      "\u001b[1m74/74\u001b[0m \u001b[32m━━━━━━━━━━━━━━━━━━━━\u001b[0m\u001b[37m\u001b[0m \u001b[1m1s\u001b[0m 8ms/step - accuracy: 0.9998 - loss: 2.9233e-04 - val_accuracy: 0.9962 - val_loss: 0.0048 - learning_rate: 3.9063e-06\n",
      "Epoch 99/100\n",
      "\u001b[1m73/74\u001b[0m \u001b[32m━━━━━━━━━━━━━━━━━━━\u001b[0m\u001b[37m━\u001b[0m \u001b[1m0s\u001b[0m 7ms/step - accuracy: 0.9999 - loss: 1.9244e-04\n",
      "Epoch 99: val_accuracy did not improve from 0.99617\n",
      "\u001b[1m74/74\u001b[0m \u001b[32m━━━━━━━━━━━━━━━━━━━━\u001b[0m\u001b[37m\u001b[0m \u001b[1m1s\u001b[0m 8ms/step - accuracy: 0.9999 - loss: 2.0149e-04 - val_accuracy: 0.9962 - val_loss: 0.0048 - learning_rate: 3.9063e-06\n",
      "Epoch 100/100\n",
      "\u001b[1m70/74\u001b[0m \u001b[32m━━━━━━━━━━━━━━━━━━\u001b[0m\u001b[37m━━\u001b[0m \u001b[1m0s\u001b[0m 8ms/step - accuracy: 0.9983 - loss: 0.0017\n",
      "Epoch 100: val_accuracy did not improve from 0.99617\n",
      "\u001b[1m74/74\u001b[0m \u001b[32m━━━━━━━━━━━━━━━━━━━━\u001b[0m\u001b[37m\u001b[0m \u001b[1m1s\u001b[0m 8ms/step - accuracy: 0.9984 - loss: 0.0016 - val_accuracy: 0.9962 - val_loss: 0.0049 - learning_rate: 3.9063e-06\n"
     ]
    }
   ],
   "source": [
    "from tensorflow.keras.callbacks import ModelCheckpoint, ReduceLROnPlateau\n",
    "\n",
    "os.makedirs('models', exist_ok=True)\n",
    "\n",
    "callbacks = [\n",
    "    ModelCheckpoint(\n",
    "        'models/best_model.keras',\n",
    "        monitor='val_accuracy',\n",
    "        verbose=1,\n",
    "        save_best_only=True,\n",
    "        mode='max'\n",
    "    ),\n",
    "    ReduceLROnPlateau(\n",
    "        monitor='val_accuracy',\n",
    "        factor=0.5,\n",
    "        patience=10,\n",
    "        verbose=1,\n",
    "        mode='max'\n",
    "    )\n",
    "]\n",
    "\n",
    "history = model.fit(\n",
    "    x_train,\n",
    "    y_train,\n",
    "    validation_data=(x_val, y_val),\n",
    "    epochs=100,\n",
    "    batch_size=32,\n",
    "    callbacks=callbacks\n",
    ")"
   ]
  },
  {
   "cell_type": "markdown",
   "metadata": {},
   "source": [
    "# 8. 학습 결과 시각화"
   ]
  },
  {
   "cell_type": "code",
   "execution_count": 10,
   "metadata": {},
   "outputs": [
    {
     "data": {
      "image/png": "[encoded data removed]",
      "text/plain": [
       "<Figure size 1200x600 with 1 Axes>"
      ]
     },
     "metadata": {},
     "output_type": "display_data"
    },
    {
     "data": {
      "image/png": "[encoded data removed]",
      "text/plain": [
       "<Figure size 1200x600 with 1 Axes>"
      ]
     },
     "metadata": {},
     "output_type": "display_data"
    }
   ],
   "source": [
    "# 정확도\n",
    "plt.figure(figsize=(12, 6))\n",
    "plt.plot(history.history['accuracy'], label='Train Accuracy')\n",
    "plt.plot(history.history['val_accuracy'], label='Validation Accuracy')\n",
    "plt.title('Model Accuracy')\n",
    "plt.ylabel('Accuracy')\n",
    "plt.xlabel('Epoch')\n",
    "plt.legend(loc='lower right')\n",
    "plt.grid(True)\n",
    "plt.show()\n",
    "\n",
    "# 손실\n",
    "plt.figure(figsize=(12, 6))\n",
    "plt.plot(history.history['loss'], label='Train Loss')\n",
    "plt.plot(history.history['val_loss'], label='Validation Loss')\n",
    "plt.title('Model Loss')\n",
    "plt.ylabel('Loss')\n",
    "plt.xlabel('Epoch')\n",
    "plt.legend(loc='upper right')\n",
    "plt.grid(True)\n",
    "plt.show()"
   ]
  },
  {
   "cell_type": "markdown",
   "metadata": {},
   "source": [
    "# 9. 모델 평가"
   ]
  },
  {
   "cell_type": "code",
   "execution_count": 11,
   "metadata": {},
   "outputs": [
    {
     "name": "stdout",
     "output_type": "stream",
     "text": [
      "Validation Loss: 0.0188\n",
      "Validation Accuracy: 0.9962\n"
     ]
    }
   ],
   "source": [
    "# 9. 모델 평가\n",
    "best_model = tf.keras.models.load_model('models/best_model.keras')\n",
    "\n",
    "val_loss, val_accuracy = best_model.evaluate(x_val, y_val, verbose=0)\n",
    "print(f'Validation Loss: {val_loss:.4f}')\n",
    "print(f'Validation Accuracy: {val_accuracy:.4f}')"
   ]
  },
  {
   "cell_type": "markdown",
   "metadata": {},
   "source": [
    "# 10. 혼동 행렬 및 분류 보고서"
   ]
  },
  {
   "cell_type": "code",
   "execution_count": 12,
   "metadata": {},
   "outputs": [
    {
     "name": "stdout",
     "output_type": "stream",
     "text": [
      "\u001b[1m9/9\u001b[0m \u001b[32m━━━━━━━━━━━━━━━━━━━━\u001b[0m\u001b[37m\u001b[0m \u001b[1m0s\u001b[0m 18ms/step\n"
     ]
    },
    {
     "data": {
      "image/png": "[encoded data removed]",
      "text/plain": [
       "<Figure size 800x600 with 2 Axes>"
      ]
     },
     "metadata": {},
     "output_type": "display_data"
    },
    {
     "name": "stdout",
     "output_type": "stream",
     "text": [
      "Classification Report:\n",
      "               precision    recall  f1-score   support\n",
      "\n",
      "       paper       1.00      0.99      0.99        87\n",
      "        rock       0.99      1.00      0.99        87\n",
      "      sissor       1.00      1.00      1.00        87\n",
      "\n",
      "    accuracy                           1.00       261\n",
      "   macro avg       1.00      1.00      1.00       261\n",
      "weighted avg       1.00      1.00      1.00       261\n",
      "\n"
     ]
    }
   ],
   "source": [
    "# 10. 혼동 행렬 및 분류 보고서\n",
    "y_pred = best_model.predict(x_val)\n",
    "y_pred_classes = np.argmax(y_pred, axis=1)\n",
    "y_true = np.argmax(y_val, axis=1)\n",
    "\n",
    "# 혼동 행렬\n",
    "conf_matrix = confusion_matrix(y_true, y_pred_classes)\n",
    "\n",
    "plt.figure(figsize=(8, 6))\n",
    "sns.heatmap(conf_matrix, annot=True, fmt='d', xticklabels=actions, yticklabels=actions, cmap='Blues')\n",
    "plt.title('Confusion Matrix')\n",
    "plt.ylabel('True Label')\n",
    "plt.xlabel('Predicted Label')\n",
    "plt.show()\n",
    "\n",
    "# 분류 보고서\n",
    "report = classification_report(y_true, y_pred_classes, target_names=actions)\n",
    "print('Classification Report:\\n', report)"
   ]
  },
  {
   "cell_type": "markdown",
   "metadata": {},
   "source": [
    "# 11. 최종 모델 저장"
   ]
  },
  {
   "cell_type": "code",
   "execution_count": 13,
   "metadata": {},
   "outputs": [],
   "source": [
    "best_model.save('models/final_model.keras')"
   ]
  }
 ],
 "metadata": {
  "kernelspec": {
   "display_name": "base",
   "language": "python",
   "name": "python3"
  },
  "language_info": {
   "codemirror_mode": {
    "name": "ipython",
    "version": 3
   },
   "file_extension": ".py",
   "mimetype": "text/x-python",
   "name": "python",
   "nbconvert_exporter": "python",
   "pygments_lexer": "ipython3",
   "version": "3.12.3"
  }
 },
 "nbformat": 4,
 "nbformat_minor": 2
}
